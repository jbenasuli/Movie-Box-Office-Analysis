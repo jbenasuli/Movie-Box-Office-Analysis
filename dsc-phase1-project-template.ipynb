{
 "cells": [
  {
   "cell_type": "markdown",
   "metadata": {},
   "source": [
    "![example](images/director_shot.jpeg)"
   ]
  },
  {
   "cell_type": "markdown",
   "metadata": {},
   "source": [
    "# Project Title\n",
    "\n",
    "**Authors:** Student 1, Student 2, Student 3\n",
    "***"
   ]
  },
  {
   "cell_type": "markdown",
   "metadata": {},
   "source": [
    "## Overview\n",
    "\n",
    "A one-paragraph overview of the project, including the business problem, data, methods, results and recommendations."
   ]
  },
  {
   "cell_type": "markdown",
   "metadata": {},
   "source": [
    "## Business Problem\n",
    "\n",
    "Summary of the business problem you are trying to solve, and the data questions that you plan to answer to solve them.\n",
    "\n",
    "***\n",
    "Questions to consider:\n",
    "* What are the business's pain points related to this project?\n",
    "* How did you pick the data analysis question(s) that you did?\n",
    "* Why are these questions important from a business perspective?\n",
    "***"
   ]
  },
  {
   "cell_type": "markdown",
   "metadata": {},
   "source": [
    "## Data Understanding\n",
    "\n",
    "Describe the data being used for this project.\n",
    "***\n",
    "Questions to consider:\n",
    "* Where did the data come from, and how do they relate to the data analysis questions?\n",
    "* What do the data represent? Who is in the sample and what variables are included?\n",
    "* What is the target variable?\n",
    "* What are the properties of the variables you intend to use?\n",
    "***"
   ]
  },
  {
   "cell_type": "code",
   "execution_count": 89,
   "metadata": {},
   "outputs": [],
   "source": [
    "# Import standard packages\n",
    "import pandas as pd\n",
    "import numpy as np\n",
    "import seaborn as sns\n",
    "import os\n",
    "import numpy as np\n",
    "import pandas as pd\n",
    "import datetime\n",
    "import seaborn as sns\n",
    "import sqlalchemy\n",
    "import sqlite3\n",
    "import matplotlib.pyplot as plt"
   ]
  },
  {
   "cell_type": "code",
   "execution_count": 90,
   "metadata": {},
   "outputs": [
    {
     "data": {
      "text/plain": [
       "[('movie_basics',),\n",
       " ('directors',),\n",
       " ('known_for',),\n",
       " ('movie_akas',),\n",
       " ('movie_ratings',),\n",
       " ('persons',),\n",
       " ('principals',),\n",
       " ('writers',)]"
      ]
     },
     "execution_count": 90,
     "metadata": {},
     "output_type": "execute_result"
    }
   ],
   "source": [
    "conn = sqlite3.connect('zippedData/im.db')\n",
    "cur = conn.cursor()\n",
    "cur.execute(\"\"\"SELECT name FROM sqlite_master WHERE type = 'table';\"\"\")\n",
    "table_names = cur.fetchall()\n",
    "table_names"
   ]
  },
  {
   "cell_type": "code",
   "execution_count": 91,
   "metadata": {},
   "outputs": [
    {
     "data": {
      "text/html": [
       "<div>\n",
       "<style scoped>\n",
       "    .dataframe tbody tr th:only-of-type {\n",
       "        vertical-align: middle;\n",
       "    }\n",
       "\n",
       "    .dataframe tbody tr th {\n",
       "        vertical-align: top;\n",
       "    }\n",
       "\n",
       "    .dataframe thead th {\n",
       "        text-align: right;\n",
       "    }\n",
       "</style>\n",
       "<table border=\"1\" class=\"dataframe\">\n",
       "  <thead>\n",
       "    <tr style=\"text-align: right;\">\n",
       "      <th></th>\n",
       "      <th>movie_id</th>\n",
       "      <th>primary_title</th>\n",
       "      <th>original_title</th>\n",
       "      <th>start_year</th>\n",
       "      <th>runtime_minutes</th>\n",
       "      <th>genres</th>\n",
       "    </tr>\n",
       "  </thead>\n",
       "  <tbody>\n",
       "    <tr>\n",
       "      <th>0</th>\n",
       "      <td>tt0063540</td>\n",
       "      <td>Sunghursh</td>\n",
       "      <td>Sunghursh</td>\n",
       "      <td>2013</td>\n",
       "      <td>175.0</td>\n",
       "      <td>Action,Crime,Drama</td>\n",
       "    </tr>\n",
       "    <tr>\n",
       "      <th>1</th>\n",
       "      <td>tt0066787</td>\n",
       "      <td>One Day Before the Rainy Season</td>\n",
       "      <td>Ashad Ka Ek Din</td>\n",
       "      <td>2019</td>\n",
       "      <td>114.0</td>\n",
       "      <td>Biography,Drama</td>\n",
       "    </tr>\n",
       "    <tr>\n",
       "      <th>2</th>\n",
       "      <td>tt0069049</td>\n",
       "      <td>The Other Side of the Wind</td>\n",
       "      <td>The Other Side of the Wind</td>\n",
       "      <td>2018</td>\n",
       "      <td>122.0</td>\n",
       "      <td>Drama</td>\n",
       "    </tr>\n",
       "    <tr>\n",
       "      <th>3</th>\n",
       "      <td>tt0069204</td>\n",
       "      <td>Sabse Bada Sukh</td>\n",
       "      <td>Sabse Bada Sukh</td>\n",
       "      <td>2018</td>\n",
       "      <td>NaN</td>\n",
       "      <td>Comedy,Drama</td>\n",
       "    </tr>\n",
       "    <tr>\n",
       "      <th>4</th>\n",
       "      <td>tt0100275</td>\n",
       "      <td>The Wandering Soap Opera</td>\n",
       "      <td>La Telenovela Errante</td>\n",
       "      <td>2017</td>\n",
       "      <td>80.0</td>\n",
       "      <td>Comedy,Drama,Fantasy</td>\n",
       "    </tr>\n",
       "  </tbody>\n",
       "</table>\n",
       "</div>"
      ],
      "text/plain": [
       "    movie_id                    primary_title              original_title  \\\n",
       "0  tt0063540                        Sunghursh                   Sunghursh   \n",
       "1  tt0066787  One Day Before the Rainy Season             Ashad Ka Ek Din   \n",
       "2  tt0069049       The Other Side of the Wind  The Other Side of the Wind   \n",
       "3  tt0069204                  Sabse Bada Sukh             Sabse Bada Sukh   \n",
       "4  tt0100275         The Wandering Soap Opera       La Telenovela Errante   \n",
       "\n",
       "   start_year  runtime_minutes                genres  \n",
       "0        2013            175.0    Action,Crime,Drama  \n",
       "1        2019            114.0       Biography,Drama  \n",
       "2        2018            122.0                 Drama  \n",
       "3        2018              NaN          Comedy,Drama  \n",
       "4        2017             80.0  Comedy,Drama,Fantasy  "
      ]
     },
     "execution_count": 91,
     "metadata": {},
     "output_type": "execute_result"
    }
   ],
   "source": [
    "df_movie_basics = pd.read_sql(\"SELECT * FROM movie_basics;\", conn)\n",
    "df_movie_basics.head()"
   ]
  },
  {
   "cell_type": "code",
   "execution_count": 93,
   "metadata": {},
   "outputs": [
    {
     "data": {
      "text/html": [
       "<div>\n",
       "<style scoped>\n",
       "    .dataframe tbody tr th:only-of-type {\n",
       "        vertical-align: middle;\n",
       "    }\n",
       "\n",
       "    .dataframe tbody tr th {\n",
       "        vertical-align: top;\n",
       "    }\n",
       "\n",
       "    .dataframe thead th {\n",
       "        text-align: right;\n",
       "    }\n",
       "</style>\n",
       "<table border=\"1\" class=\"dataframe\">\n",
       "  <thead>\n",
       "    <tr style=\"text-align: right;\">\n",
       "      <th></th>\n",
       "      <th>movie_id</th>\n",
       "      <th>averagerating</th>\n",
       "      <th>numvotes</th>\n",
       "    </tr>\n",
       "  </thead>\n",
       "  <tbody>\n",
       "    <tr>\n",
       "      <th>0</th>\n",
       "      <td>tt10356526</td>\n",
       "      <td>8.3</td>\n",
       "      <td>31</td>\n",
       "    </tr>\n",
       "    <tr>\n",
       "      <th>1</th>\n",
       "      <td>tt10384606</td>\n",
       "      <td>8.9</td>\n",
       "      <td>559</td>\n",
       "    </tr>\n",
       "    <tr>\n",
       "      <th>2</th>\n",
       "      <td>tt1042974</td>\n",
       "      <td>6.4</td>\n",
       "      <td>20</td>\n",
       "    </tr>\n",
       "    <tr>\n",
       "      <th>3</th>\n",
       "      <td>tt1043726</td>\n",
       "      <td>4.2</td>\n",
       "      <td>50352</td>\n",
       "    </tr>\n",
       "    <tr>\n",
       "      <th>4</th>\n",
       "      <td>tt1060240</td>\n",
       "      <td>6.5</td>\n",
       "      <td>21</td>\n",
       "    </tr>\n",
       "  </tbody>\n",
       "</table>\n",
       "</div>"
      ],
      "text/plain": [
       "     movie_id  averagerating  numvotes\n",
       "0  tt10356526            8.3        31\n",
       "1  tt10384606            8.9       559\n",
       "2   tt1042974            6.4        20\n",
       "3   tt1043726            4.2     50352\n",
       "4   tt1060240            6.5        21"
      ]
     },
     "execution_count": 93,
     "metadata": {},
     "output_type": "execute_result"
    }
   ],
   "source": [
    "df_movie_ratings = pd.read_sql(\"SELECT * FROM movie_ratings;\", conn)\n",
    "df_movie_ratings.head()"
   ]
  },
  {
   "cell_type": "code",
   "execution_count": 96,
   "metadata": {},
   "outputs": [],
   "source": [
    "#only choose years 2010 - 2018\n",
    "df_movie_basics = df_movie_basics[(df_movie_basics['start_year'] >= 2010) & (df_movie_basics['start_year'] <= 2018)]"
   ]
  },
  {
   "cell_type": "code",
   "execution_count": 97,
   "metadata": {},
   "outputs": [],
   "source": [
    "## do a left join pulling in df_movie_ratings\n",
    "merged_df = pd.merge(df_movie_basics, df_movie_ratings, on='movie_id', how='left')"
   ]
  },
  {
   "cell_type": "code",
   "execution_count": 98,
   "metadata": {},
   "outputs": [
    {
     "data": {
      "text/html": [
       "<div>\n",
       "<style scoped>\n",
       "    .dataframe tbody tr th:only-of-type {\n",
       "        vertical-align: middle;\n",
       "    }\n",
       "\n",
       "    .dataframe tbody tr th {\n",
       "        vertical-align: top;\n",
       "    }\n",
       "\n",
       "    .dataframe thead th {\n",
       "        text-align: right;\n",
       "    }\n",
       "</style>\n",
       "<table border=\"1\" class=\"dataframe\">\n",
       "  <thead>\n",
       "    <tr style=\"text-align: right;\">\n",
       "      <th></th>\n",
       "      <th>id</th>\n",
       "      <th>release_date</th>\n",
       "      <th>movie</th>\n",
       "      <th>production_budget</th>\n",
       "      <th>domestic_gross</th>\n",
       "      <th>worldwide_gross</th>\n",
       "    </tr>\n",
       "  </thead>\n",
       "  <tbody>\n",
       "    <tr>\n",
       "      <th>0</th>\n",
       "      <td>1</td>\n",
       "      <td>Dec 18, 2009</td>\n",
       "      <td>Avatar</td>\n",
       "      <td>$425,000,000</td>\n",
       "      <td>$760,507,625</td>\n",
       "      <td>$2,776,345,279</td>\n",
       "    </tr>\n",
       "    <tr>\n",
       "      <th>1</th>\n",
       "      <td>2</td>\n",
       "      <td>May 20, 2011</td>\n",
       "      <td>Pirates of the Caribbean: On Stranger Tides</td>\n",
       "      <td>$410,600,000</td>\n",
       "      <td>$241,063,875</td>\n",
       "      <td>$1,045,663,875</td>\n",
       "    </tr>\n",
       "    <tr>\n",
       "      <th>2</th>\n",
       "      <td>3</td>\n",
       "      <td>Jun 7, 2019</td>\n",
       "      <td>Dark Phoenix</td>\n",
       "      <td>$350,000,000</td>\n",
       "      <td>$42,762,350</td>\n",
       "      <td>$149,762,350</td>\n",
       "    </tr>\n",
       "    <tr>\n",
       "      <th>3</th>\n",
       "      <td>4</td>\n",
       "      <td>May 1, 2015</td>\n",
       "      <td>Avengers: Age of Ultron</td>\n",
       "      <td>$330,600,000</td>\n",
       "      <td>$459,005,868</td>\n",
       "      <td>$1,403,013,963</td>\n",
       "    </tr>\n",
       "    <tr>\n",
       "      <th>4</th>\n",
       "      <td>5</td>\n",
       "      <td>Dec 15, 2017</td>\n",
       "      <td>Star Wars Ep. VIII: The Last Jedi</td>\n",
       "      <td>$317,000,000</td>\n",
       "      <td>$620,181,382</td>\n",
       "      <td>$1,316,721,747</td>\n",
       "    </tr>\n",
       "  </tbody>\n",
       "</table>\n",
       "</div>"
      ],
      "text/plain": [
       "   id  release_date                                        movie  \\\n",
       "0   1  Dec 18, 2009                                       Avatar   \n",
       "1   2  May 20, 2011  Pirates of the Caribbean: On Stranger Tides   \n",
       "2   3   Jun 7, 2019                                 Dark Phoenix   \n",
       "3   4   May 1, 2015                      Avengers: Age of Ultron   \n",
       "4   5  Dec 15, 2017            Star Wars Ep. VIII: The Last Jedi   \n",
       "\n",
       "  production_budget domestic_gross worldwide_gross  \n",
       "0      $425,000,000   $760,507,625  $2,776,345,279  \n",
       "1      $410,600,000   $241,063,875  $1,045,663,875  \n",
       "2      $350,000,000    $42,762,350    $149,762,350  \n",
       "3      $330,600,000   $459,005,868  $1,403,013,963  \n",
       "4      $317,000,000   $620,181,382  $1,316,721,747  "
      ]
     },
     "execution_count": 98,
     "metadata": {},
     "output_type": "execute_result"
    }
   ],
   "source": [
    "#pull in movie budgets\n",
    "df_movie_budgets = pd.read_csv('zippedData/tn.movie_budgets.csv')\n",
    "df_movie_budgets.head()"
   ]
  },
  {
   "cell_type": "code",
   "execution_count": 99,
   "metadata": {},
   "outputs": [],
   "source": [
    "# create new column for 'year' in df_movie_budgets to key off + 'title' to join with merged_df\n",
    "df_movie_budgets['year'] = df_movie_budgets['release_date'].str[-4:]\n",
    "df_movie_budgets['year'] = pd.to_numeric(df_movie_budgets['year'], downcast='integer')"
   ]
  },
  {
   "cell_type": "code",
   "execution_count": 100,
   "metadata": {},
   "outputs": [],
   "source": [
    "merged_df = merged_df.merge(df_movie_budgets, how = 'left', left_on = ['primary_title', 'start_year'], right_on = ['movie', 'year'])"
   ]
  },
  {
   "cell_type": "code",
   "execution_count": 101,
   "metadata": {},
   "outputs": [],
   "source": [
    "#dropna for any without production budgets\n",
    "merged_df = merged_df.dropna(subset=['production_budget'])"
   ]
  },
  {
   "cell_type": "code",
   "execution_count": 102,
   "metadata": {},
   "outputs": [
    {
     "data": {
      "text/html": [
       "<div>\n",
       "<style scoped>\n",
       "    .dataframe tbody tr th:only-of-type {\n",
       "        vertical-align: middle;\n",
       "    }\n",
       "\n",
       "    .dataframe tbody tr th {\n",
       "        vertical-align: top;\n",
       "    }\n",
       "\n",
       "    .dataframe thead th {\n",
       "        text-align: right;\n",
       "    }\n",
       "</style>\n",
       "<table border=\"1\" class=\"dataframe\">\n",
       "  <thead>\n",
       "    <tr style=\"text-align: right;\">\n",
       "      <th></th>\n",
       "      <th>movie_id</th>\n",
       "      <th>primary_title</th>\n",
       "      <th>original_title</th>\n",
       "      <th>start_year</th>\n",
       "      <th>runtime_minutes</th>\n",
       "      <th>genres</th>\n",
       "      <th>averagerating</th>\n",
       "      <th>numvotes</th>\n",
       "      <th>id</th>\n",
       "      <th>release_date</th>\n",
       "      <th>production_budget</th>\n",
       "      <th>domestic_gross</th>\n",
       "      <th>worldwide_gross</th>\n",
       "    </tr>\n",
       "  </thead>\n",
       "  <tbody>\n",
       "    <tr>\n",
       "      <th>19</th>\n",
       "      <td>tt0249516</td>\n",
       "      <td>Foodfight!</td>\n",
       "      <td>Foodfight!</td>\n",
       "      <td>2012</td>\n",
       "      <td>91.0</td>\n",
       "      <td>Action,Animation,Comedy</td>\n",
       "      <td>1.9</td>\n",
       "      <td>8248.0</td>\n",
       "      <td>26.0</td>\n",
       "      <td>Dec 31, 2012</td>\n",
       "      <td>$45,000,000</td>\n",
       "      <td>$0</td>\n",
       "      <td>$73,706</td>\n",
       "    </tr>\n",
       "    <tr>\n",
       "      <th>50</th>\n",
       "      <td>tt0359950</td>\n",
       "      <td>The Secret Life of Walter Mitty</td>\n",
       "      <td>The Secret Life of Walter Mitty</td>\n",
       "      <td>2013</td>\n",
       "      <td>114.0</td>\n",
       "      <td>Adventure,Comedy,Drama</td>\n",
       "      <td>7.3</td>\n",
       "      <td>275300.0</td>\n",
       "      <td>37.0</td>\n",
       "      <td>Dec 25, 2013</td>\n",
       "      <td>$91,000,000</td>\n",
       "      <td>$58,236,838</td>\n",
       "      <td>$187,861,183</td>\n",
       "    </tr>\n",
       "    <tr>\n",
       "      <th>54</th>\n",
       "      <td>tt0365907</td>\n",
       "      <td>A Walk Among the Tombstones</td>\n",
       "      <td>A Walk Among the Tombstones</td>\n",
       "      <td>2014</td>\n",
       "      <td>114.0</td>\n",
       "      <td>Action,Crime,Drama</td>\n",
       "      <td>6.5</td>\n",
       "      <td>105116.0</td>\n",
       "      <td>67.0</td>\n",
       "      <td>Sep 19, 2014</td>\n",
       "      <td>$28,000,000</td>\n",
       "      <td>$26,017,685</td>\n",
       "      <td>$62,108,587</td>\n",
       "    </tr>\n",
       "    <tr>\n",
       "      <th>56</th>\n",
       "      <td>tt0369610</td>\n",
       "      <td>Jurassic World</td>\n",
       "      <td>Jurassic World</td>\n",
       "      <td>2015</td>\n",
       "      <td>124.0</td>\n",
       "      <td>Action,Adventure,Sci-Fi</td>\n",
       "      <td>7.0</td>\n",
       "      <td>539338.0</td>\n",
       "      <td>34.0</td>\n",
       "      <td>Jun 12, 2015</td>\n",
       "      <td>$215,000,000</td>\n",
       "      <td>$652,270,625</td>\n",
       "      <td>$1,648,854,864</td>\n",
       "    </tr>\n",
       "    <tr>\n",
       "      <th>58</th>\n",
       "      <td>tt0376136</td>\n",
       "      <td>The Rum Diary</td>\n",
       "      <td>The Rum Diary</td>\n",
       "      <td>2011</td>\n",
       "      <td>119.0</td>\n",
       "      <td>Comedy,Drama</td>\n",
       "      <td>6.2</td>\n",
       "      <td>94787.0</td>\n",
       "      <td>16.0</td>\n",
       "      <td>Oct 28, 2011</td>\n",
       "      <td>$45,000,000</td>\n",
       "      <td>$13,109,815</td>\n",
       "      <td>$21,544,732</td>\n",
       "    </tr>\n",
       "    <tr>\n",
       "      <th>...</th>\n",
       "      <td>...</td>\n",
       "      <td>...</td>\n",
       "      <td>...</td>\n",
       "      <td>...</td>\n",
       "      <td>...</td>\n",
       "      <td>...</td>\n",
       "      <td>...</td>\n",
       "      <td>...</td>\n",
       "      <td>...</td>\n",
       "      <td>...</td>\n",
       "      <td>...</td>\n",
       "      <td>...</td>\n",
       "      <td>...</td>\n",
       "    </tr>\n",
       "    <tr>\n",
       "      <th>127625</th>\n",
       "      <td>tt8408152</td>\n",
       "      <td>Detention</td>\n",
       "      <td>Detention</td>\n",
       "      <td>2012</td>\n",
       "      <td>NaN</td>\n",
       "      <td>Horror</td>\n",
       "      <td>NaN</td>\n",
       "      <td>NaN</td>\n",
       "      <td>45.0</td>\n",
       "      <td>Apr 13, 2012</td>\n",
       "      <td>$10,000,000</td>\n",
       "      <td>$0</td>\n",
       "      <td>$0</td>\n",
       "    </tr>\n",
       "    <tr>\n",
       "      <th>129399</th>\n",
       "      <td>tt8632862</td>\n",
       "      <td>Fahrenheit 11/9</td>\n",
       "      <td>Fahrenheit 11/9</td>\n",
       "      <td>2018</td>\n",
       "      <td>128.0</td>\n",
       "      <td>Documentary</td>\n",
       "      <td>6.7</td>\n",
       "      <td>11628.0</td>\n",
       "      <td>29.0</td>\n",
       "      <td>Sep 21, 2018</td>\n",
       "      <td>$5,000,000</td>\n",
       "      <td>$6,352,306</td>\n",
       "      <td>$6,653,715</td>\n",
       "    </tr>\n",
       "    <tr>\n",
       "      <th>131109</th>\n",
       "      <td>tt8852552</td>\n",
       "      <td>Icarus</td>\n",
       "      <td>Icarus</td>\n",
       "      <td>2010</td>\n",
       "      <td>78.0</td>\n",
       "      <td>Thriller</td>\n",
       "      <td>NaN</td>\n",
       "      <td>NaN</td>\n",
       "      <td>91.0</td>\n",
       "      <td>Feb 9, 2010</td>\n",
       "      <td>$6,000,000</td>\n",
       "      <td>$0</td>\n",
       "      <td>$0</td>\n",
       "    </tr>\n",
       "    <tr>\n",
       "      <th>134493</th>\n",
       "      <td>tt9347476</td>\n",
       "      <td>Believe</td>\n",
       "      <td>Believe</td>\n",
       "      <td>2016</td>\n",
       "      <td>NaN</td>\n",
       "      <td>None</td>\n",
       "      <td>NaN</td>\n",
       "      <td>NaN</td>\n",
       "      <td>13.0</td>\n",
       "      <td>Dec 2, 2016</td>\n",
       "      <td>$3,500,000</td>\n",
       "      <td>$890,303</td>\n",
       "      <td>$890,303</td>\n",
       "    </tr>\n",
       "    <tr>\n",
       "      <th>136594</th>\n",
       "      <td>tt9889072</td>\n",
       "      <td>The Promise</td>\n",
       "      <td>The Promise</td>\n",
       "      <td>2017</td>\n",
       "      <td>NaN</td>\n",
       "      <td>Drama</td>\n",
       "      <td>NaN</td>\n",
       "      <td>NaN</td>\n",
       "      <td>78.0</td>\n",
       "      <td>Apr 21, 2017</td>\n",
       "      <td>$90,000,000</td>\n",
       "      <td>$8,224,288</td>\n",
       "      <td>$10,551,417</td>\n",
       "    </tr>\n",
       "  </tbody>\n",
       "</table>\n",
       "<p>1505 rows × 13 columns</p>\n",
       "</div>"
      ],
      "text/plain": [
       "         movie_id                    primary_title  \\\n",
       "19      tt0249516                       Foodfight!   \n",
       "50      tt0359950  The Secret Life of Walter Mitty   \n",
       "54      tt0365907      A Walk Among the Tombstones   \n",
       "56      tt0369610                   Jurassic World   \n",
       "58      tt0376136                    The Rum Diary   \n",
       "...           ...                              ...   \n",
       "127625  tt8408152                        Detention   \n",
       "129399  tt8632862                  Fahrenheit 11/9   \n",
       "131109  tt8852552                           Icarus   \n",
       "134493  tt9347476                          Believe   \n",
       "136594  tt9889072                      The Promise   \n",
       "\n",
       "                         original_title  start_year  runtime_minutes  \\\n",
       "19                           Foodfight!        2012             91.0   \n",
       "50      The Secret Life of Walter Mitty        2013            114.0   \n",
       "54          A Walk Among the Tombstones        2014            114.0   \n",
       "56                       Jurassic World        2015            124.0   \n",
       "58                        The Rum Diary        2011            119.0   \n",
       "...                                 ...         ...              ...   \n",
       "127625                        Detention        2012              NaN   \n",
       "129399                  Fahrenheit 11/9        2018            128.0   \n",
       "131109                           Icarus        2010             78.0   \n",
       "134493                          Believe        2016              NaN   \n",
       "136594                      The Promise        2017              NaN   \n",
       "\n",
       "                         genres  averagerating  numvotes    id  release_date  \\\n",
       "19      Action,Animation,Comedy            1.9    8248.0  26.0  Dec 31, 2012   \n",
       "50       Adventure,Comedy,Drama            7.3  275300.0  37.0  Dec 25, 2013   \n",
       "54           Action,Crime,Drama            6.5  105116.0  67.0  Sep 19, 2014   \n",
       "56      Action,Adventure,Sci-Fi            7.0  539338.0  34.0  Jun 12, 2015   \n",
       "58                 Comedy,Drama            6.2   94787.0  16.0  Oct 28, 2011   \n",
       "...                         ...            ...       ...   ...           ...   \n",
       "127625                   Horror            NaN       NaN  45.0  Apr 13, 2012   \n",
       "129399              Documentary            6.7   11628.0  29.0  Sep 21, 2018   \n",
       "131109                 Thriller            NaN       NaN  91.0   Feb 9, 2010   \n",
       "134493                     None            NaN       NaN  13.0   Dec 2, 2016   \n",
       "136594                    Drama            NaN       NaN  78.0  Apr 21, 2017   \n",
       "\n",
       "       production_budget domestic_gross worldwide_gross  \n",
       "19           $45,000,000             $0         $73,706  \n",
       "50           $91,000,000    $58,236,838    $187,861,183  \n",
       "54           $28,000,000    $26,017,685     $62,108,587  \n",
       "56          $215,000,000   $652,270,625  $1,648,854,864  \n",
       "58           $45,000,000    $13,109,815     $21,544,732  \n",
       "...                  ...            ...             ...  \n",
       "127625       $10,000,000             $0              $0  \n",
       "129399        $5,000,000     $6,352,306      $6,653,715  \n",
       "131109        $6,000,000             $0              $0  \n",
       "134493        $3,500,000       $890,303        $890,303  \n",
       "136594       $90,000,000     $8,224,288     $10,551,417  \n",
       "\n",
       "[1505 rows x 13 columns]"
      ]
     },
     "execution_count": 102,
     "metadata": {},
     "output_type": "execute_result"
    }
   ],
   "source": [
    "# drop useless columns\n",
    "merged_df.drop(columns=['movie','year'],\n",
    "               axis='columns', inplace=True)\n",
    "merged_df"
   ]
  },
  {
   "cell_type": "code",
   "execution_count": 104,
   "metadata": {},
   "outputs": [
    {
     "name": "stdout",
     "output_type": "stream",
     "text": [
      "<class 'pandas.core.frame.DataFrame'>\n",
      "Int64Index: 1457 entries, 19 to 129399\n",
      "Data columns (total 14 columns):\n",
      " #   Column             Non-Null Count  Dtype         \n",
      "---  ------             --------------  -----         \n",
      " 0   movie_id           1457 non-null   object        \n",
      " 1   primary_title      1457 non-null   object        \n",
      " 2   original_title     1457 non-null   object        \n",
      " 3   start_year         1457 non-null   int64         \n",
      " 4   runtime_minutes    1457 non-null   float64       \n",
      " 5   genres             1457 non-null   object        \n",
      " 6   averagerating      1457 non-null   float64       \n",
      " 7   numvotes           1457 non-null   float64       \n",
      " 8   id                 1457 non-null   float64       \n",
      " 9   release_date       1457 non-null   datetime64[ns]\n",
      " 10  production_budget  1457 non-null   object        \n",
      " 11  domestic_gross     1457 non-null   object        \n",
      " 12  worldwide_gross    1457 non-null   object        \n",
      " 13  release_month      1457 non-null   int64         \n",
      "dtypes: datetime64[ns](1), float64(4), int64(2), object(7)\n",
      "memory usage: 170.7+ KB\n"
     ]
    }
   ],
   "source": [
    "#drop rows with null values and inspect info\n",
    "merged_df.dropna(inplace=True)\n",
    "merged_df.info()"
   ]
  },
  {
   "cell_type": "code",
   "execution_count": 107,
   "metadata": {},
   "outputs": [],
   "source": [
    "import re\n",
    "merged_df['worldwide_gross'] = merged_df['worldwide_gross'].replace( '[^0-9]', '', regex=True)\n",
    "merged_df['domestic_gross'] = merged_df['domestic_gross'].replace( '[^0-9]', '', regex=True)\n",
    "merged_df['production_budget'] = merged_df['production_budget'].replace( '[^0-9]', '', regex=True)\n",
    "merged_df['production_budget'] = merged_df['production_budget'].astype(int)\n",
    "merged_df['domestic_gross'] = merged_df['domestic_gross'].astype(int)\n",
    "merged_df['worldwide_gross'] = merged_df['worldwide_gross'].astype(int)\n",
    "#get rid of dollar signs and turn to integer "
   ]
  },
  {
   "cell_type": "code",
   "execution_count": 108,
   "metadata": {},
   "outputs": [
    {
     "data": {
      "text/html": [
       "<div>\n",
       "<style scoped>\n",
       "    .dataframe tbody tr th:only-of-type {\n",
       "        vertical-align: middle;\n",
       "    }\n",
       "\n",
       "    .dataframe tbody tr th {\n",
       "        vertical-align: top;\n",
       "    }\n",
       "\n",
       "    .dataframe thead th {\n",
       "        text-align: right;\n",
       "    }\n",
       "</style>\n",
       "<table border=\"1\" class=\"dataframe\">\n",
       "  <thead>\n",
       "    <tr style=\"text-align: right;\">\n",
       "      <th></th>\n",
       "      <th>movie_id</th>\n",
       "      <th>primary_title</th>\n",
       "      <th>original_title</th>\n",
       "      <th>start_year</th>\n",
       "      <th>runtime_minutes</th>\n",
       "      <th>genres</th>\n",
       "      <th>averagerating</th>\n",
       "      <th>numvotes</th>\n",
       "      <th>id</th>\n",
       "      <th>release_date</th>\n",
       "      <th>production_budget</th>\n",
       "      <th>domestic_gross</th>\n",
       "      <th>worldwide_gross</th>\n",
       "      <th>release_month</th>\n",
       "      <th>profitability_index</th>\n",
       "    </tr>\n",
       "  </thead>\n",
       "  <tbody>\n",
       "    <tr>\n",
       "      <th>19</th>\n",
       "      <td>tt0249516</td>\n",
       "      <td>Foodfight!</td>\n",
       "      <td>Foodfight!</td>\n",
       "      <td>2012</td>\n",
       "      <td>91</td>\n",
       "      <td>Action,Animation,Comedy</td>\n",
       "      <td>1.9</td>\n",
       "      <td>8248</td>\n",
       "      <td>26.0</td>\n",
       "      <td>2012-12-31</td>\n",
       "      <td>45000000</td>\n",
       "      <td>0</td>\n",
       "      <td>73706</td>\n",
       "      <td>12</td>\n",
       "      <td>0.001638</td>\n",
       "    </tr>\n",
       "    <tr>\n",
       "      <th>50</th>\n",
       "      <td>tt0359950</td>\n",
       "      <td>The Secret Life of Walter Mitty</td>\n",
       "      <td>The Secret Life of Walter Mitty</td>\n",
       "      <td>2013</td>\n",
       "      <td>114</td>\n",
       "      <td>Adventure,Comedy,Drama</td>\n",
       "      <td>7.3</td>\n",
       "      <td>275300</td>\n",
       "      <td>37.0</td>\n",
       "      <td>2013-12-25</td>\n",
       "      <td>91000000</td>\n",
       "      <td>58236838</td>\n",
       "      <td>187861183</td>\n",
       "      <td>12</td>\n",
       "      <td>2.064409</td>\n",
       "    </tr>\n",
       "    <tr>\n",
       "      <th>54</th>\n",
       "      <td>tt0365907</td>\n",
       "      <td>A Walk Among the Tombstones</td>\n",
       "      <td>A Walk Among the Tombstones</td>\n",
       "      <td>2014</td>\n",
       "      <td>114</td>\n",
       "      <td>Action,Crime,Drama</td>\n",
       "      <td>6.5</td>\n",
       "      <td>105116</td>\n",
       "      <td>67.0</td>\n",
       "      <td>2014-09-19</td>\n",
       "      <td>28000000</td>\n",
       "      <td>26017685</td>\n",
       "      <td>62108587</td>\n",
       "      <td>9</td>\n",
       "      <td>2.218164</td>\n",
       "    </tr>\n",
       "    <tr>\n",
       "      <th>56</th>\n",
       "      <td>tt0369610</td>\n",
       "      <td>Jurassic World</td>\n",
       "      <td>Jurassic World</td>\n",
       "      <td>2015</td>\n",
       "      <td>124</td>\n",
       "      <td>Action,Adventure,Sci-Fi</td>\n",
       "      <td>7.0</td>\n",
       "      <td>539338</td>\n",
       "      <td>34.0</td>\n",
       "      <td>2015-06-12</td>\n",
       "      <td>215000000</td>\n",
       "      <td>652270625</td>\n",
       "      <td>1648854864</td>\n",
       "      <td>6</td>\n",
       "      <td>7.669092</td>\n",
       "    </tr>\n",
       "    <tr>\n",
       "      <th>58</th>\n",
       "      <td>tt0376136</td>\n",
       "      <td>The Rum Diary</td>\n",
       "      <td>The Rum Diary</td>\n",
       "      <td>2011</td>\n",
       "      <td>119</td>\n",
       "      <td>Comedy,Drama</td>\n",
       "      <td>6.2</td>\n",
       "      <td>94787</td>\n",
       "      <td>16.0</td>\n",
       "      <td>2011-10-28</td>\n",
       "      <td>45000000</td>\n",
       "      <td>13109815</td>\n",
       "      <td>21544732</td>\n",
       "      <td>10</td>\n",
       "      <td>0.478772</td>\n",
       "    </tr>\n",
       "  </tbody>\n",
       "</table>\n",
       "</div>"
      ],
      "text/plain": [
       "     movie_id                    primary_title  \\\n",
       "19  tt0249516                       Foodfight!   \n",
       "50  tt0359950  The Secret Life of Walter Mitty   \n",
       "54  tt0365907      A Walk Among the Tombstones   \n",
       "56  tt0369610                   Jurassic World   \n",
       "58  tt0376136                    The Rum Diary   \n",
       "\n",
       "                     original_title  start_year  runtime_minutes  \\\n",
       "19                       Foodfight!        2012               91   \n",
       "50  The Secret Life of Walter Mitty        2013              114   \n",
       "54      A Walk Among the Tombstones        2014              114   \n",
       "56                   Jurassic World        2015              124   \n",
       "58                    The Rum Diary        2011              119   \n",
       "\n",
       "                     genres  averagerating  numvotes    id release_date  \\\n",
       "19  Action,Animation,Comedy            1.9      8248  26.0   2012-12-31   \n",
       "50   Adventure,Comedy,Drama            7.3    275300  37.0   2013-12-25   \n",
       "54       Action,Crime,Drama            6.5    105116  67.0   2014-09-19   \n",
       "56  Action,Adventure,Sci-Fi            7.0    539338  34.0   2015-06-12   \n",
       "58             Comedy,Drama            6.2     94787  16.0   2011-10-28   \n",
       "\n",
       "    production_budget  domestic_gross  worldwide_gross  release_month  \\\n",
       "19           45000000               0            73706             12   \n",
       "50           91000000        58236838        187861183             12   \n",
       "54           28000000        26017685         62108587              9   \n",
       "56          215000000       652270625       1648854864              6   \n",
       "58           45000000        13109815         21544732             10   \n",
       "\n",
       "    profitability_index  \n",
       "19             0.001638  \n",
       "50             2.064409  \n",
       "54             2.218164  \n",
       "56             7.669092  \n",
       "58             0.478772  "
      ]
     },
     "execution_count": 108,
     "metadata": {},
     "output_type": "execute_result"
    }
   ],
   "source": [
    "#create profitability index which relates gross profit over budget\n",
    "merged_df['profitability_index'] = merged_df['worldwide_gross'] / merged_df['production_budget']\n",
    "merged_df.head()"
   ]
  },
  {
   "cell_type": "code",
   "execution_count": 109,
   "metadata": {},
   "outputs": [
    {
     "data": {
      "text/html": [
       "<div>\n",
       "<style scoped>\n",
       "    .dataframe tbody tr th:only-of-type {\n",
       "        vertical-align: middle;\n",
       "    }\n",
       "\n",
       "    .dataframe tbody tr th {\n",
       "        vertical-align: top;\n",
       "    }\n",
       "\n",
       "    .dataframe thead th {\n",
       "        text-align: right;\n",
       "    }\n",
       "</style>\n",
       "<table border=\"1\" class=\"dataframe\">\n",
       "  <thead>\n",
       "    <tr style=\"text-align: right;\">\n",
       "      <th></th>\n",
       "      <th>index</th>\n",
       "      <th>movie_id</th>\n",
       "      <th>primary_title</th>\n",
       "      <th>original_title</th>\n",
       "      <th>start_year</th>\n",
       "      <th>runtime_minutes</th>\n",
       "      <th>genres</th>\n",
       "      <th>averagerating</th>\n",
       "      <th>numvotes</th>\n",
       "      <th>id</th>\n",
       "      <th>release_date</th>\n",
       "      <th>production_budget</th>\n",
       "      <th>domestic_gross</th>\n",
       "      <th>worldwide_gross</th>\n",
       "      <th>release_month</th>\n",
       "      <th>profitability_index</th>\n",
       "    </tr>\n",
       "  </thead>\n",
       "  <tbody>\n",
       "    <tr>\n",
       "      <th>0</th>\n",
       "      <td>19</td>\n",
       "      <td>tt0249516</td>\n",
       "      <td>Foodfight!</td>\n",
       "      <td>Foodfight!</td>\n",
       "      <td>2012</td>\n",
       "      <td>91</td>\n",
       "      <td>Action,Animation,Comedy</td>\n",
       "      <td>1.9</td>\n",
       "      <td>8248</td>\n",
       "      <td>26.0</td>\n",
       "      <td>2012-12-31</td>\n",
       "      <td>45000000</td>\n",
       "      <td>0</td>\n",
       "      <td>73706</td>\n",
       "      <td>12</td>\n",
       "      <td>0.001638</td>\n",
       "    </tr>\n",
       "    <tr>\n",
       "      <th>1</th>\n",
       "      <td>50</td>\n",
       "      <td>tt0359950</td>\n",
       "      <td>The Secret Life of Walter Mitty</td>\n",
       "      <td>The Secret Life of Walter Mitty</td>\n",
       "      <td>2013</td>\n",
       "      <td>114</td>\n",
       "      <td>Adventure,Comedy,Drama</td>\n",
       "      <td>7.3</td>\n",
       "      <td>275300</td>\n",
       "      <td>37.0</td>\n",
       "      <td>2013-12-25</td>\n",
       "      <td>91000000</td>\n",
       "      <td>58236838</td>\n",
       "      <td>187861183</td>\n",
       "      <td>12</td>\n",
       "      <td>2.064409</td>\n",
       "    </tr>\n",
       "    <tr>\n",
       "      <th>2</th>\n",
       "      <td>54</td>\n",
       "      <td>tt0365907</td>\n",
       "      <td>A Walk Among the Tombstones</td>\n",
       "      <td>A Walk Among the Tombstones</td>\n",
       "      <td>2014</td>\n",
       "      <td>114</td>\n",
       "      <td>Action,Crime,Drama</td>\n",
       "      <td>6.5</td>\n",
       "      <td>105116</td>\n",
       "      <td>67.0</td>\n",
       "      <td>2014-09-19</td>\n",
       "      <td>28000000</td>\n",
       "      <td>26017685</td>\n",
       "      <td>62108587</td>\n",
       "      <td>9</td>\n",
       "      <td>2.218164</td>\n",
       "    </tr>\n",
       "    <tr>\n",
       "      <th>3</th>\n",
       "      <td>56</td>\n",
       "      <td>tt0369610</td>\n",
       "      <td>Jurassic World</td>\n",
       "      <td>Jurassic World</td>\n",
       "      <td>2015</td>\n",
       "      <td>124</td>\n",
       "      <td>Action,Adventure,Sci-Fi</td>\n",
       "      <td>7.0</td>\n",
       "      <td>539338</td>\n",
       "      <td>34.0</td>\n",
       "      <td>2015-06-12</td>\n",
       "      <td>215000000</td>\n",
       "      <td>652270625</td>\n",
       "      <td>1648854864</td>\n",
       "      <td>6</td>\n",
       "      <td>7.669092</td>\n",
       "    </tr>\n",
       "    <tr>\n",
       "      <th>4</th>\n",
       "      <td>58</td>\n",
       "      <td>tt0376136</td>\n",
       "      <td>The Rum Diary</td>\n",
       "      <td>The Rum Diary</td>\n",
       "      <td>2011</td>\n",
       "      <td>119</td>\n",
       "      <td>Comedy,Drama</td>\n",
       "      <td>6.2</td>\n",
       "      <td>94787</td>\n",
       "      <td>16.0</td>\n",
       "      <td>2011-10-28</td>\n",
       "      <td>45000000</td>\n",
       "      <td>13109815</td>\n",
       "      <td>21544732</td>\n",
       "      <td>10</td>\n",
       "      <td>0.478772</td>\n",
       "    </tr>\n",
       "    <tr>\n",
       "      <th>...</th>\n",
       "      <td>...</td>\n",
       "      <td>...</td>\n",
       "      <td>...</td>\n",
       "      <td>...</td>\n",
       "      <td>...</td>\n",
       "      <td>...</td>\n",
       "      <td>...</td>\n",
       "      <td>...</td>\n",
       "      <td>...</td>\n",
       "      <td>...</td>\n",
       "      <td>...</td>\n",
       "      <td>...</td>\n",
       "      <td>...</td>\n",
       "      <td>...</td>\n",
       "      <td>...</td>\n",
       "      <td>...</td>\n",
       "    </tr>\n",
       "    <tr>\n",
       "      <th>1452</th>\n",
       "      <td>121683</td>\n",
       "      <td>tt7784604</td>\n",
       "      <td>Hereditary</td>\n",
       "      <td>Hereditary</td>\n",
       "      <td>2018</td>\n",
       "      <td>127</td>\n",
       "      <td>Drama,Horror,Mystery</td>\n",
       "      <td>7.3</td>\n",
       "      <td>151571</td>\n",
       "      <td>56.0</td>\n",
       "      <td>2018-06-08</td>\n",
       "      <td>10000000</td>\n",
       "      <td>44069456</td>\n",
       "      <td>70133905</td>\n",
       "      <td>6</td>\n",
       "      <td>7.013390</td>\n",
       "    </tr>\n",
       "    <tr>\n",
       "      <th>1453</th>\n",
       "      <td>121697</td>\n",
       "      <td>tt7785302</td>\n",
       "      <td>Spotlight</td>\n",
       "      <td>Spotlight</td>\n",
       "      <td>2015</td>\n",
       "      <td>99</td>\n",
       "      <td>Drama</td>\n",
       "      <td>8.0</td>\n",
       "      <td>12</td>\n",
       "      <td>34.0</td>\n",
       "      <td>2015-11-06</td>\n",
       "      <td>20000000</td>\n",
       "      <td>45055776</td>\n",
       "      <td>92088460</td>\n",
       "      <td>11</td>\n",
       "      <td>4.604423</td>\n",
       "    </tr>\n",
       "    <tr>\n",
       "      <th>1454</th>\n",
       "      <td>123478</td>\n",
       "      <td>tt7959026</td>\n",
       "      <td>The Mule</td>\n",
       "      <td>The Mule</td>\n",
       "      <td>2018</td>\n",
       "      <td>116</td>\n",
       "      <td>Crime,Drama,Thriller</td>\n",
       "      <td>7.1</td>\n",
       "      <td>58955</td>\n",
       "      <td>100.0</td>\n",
       "      <td>2018-12-14</td>\n",
       "      <td>50000000</td>\n",
       "      <td>103804407</td>\n",
       "      <td>170857676</td>\n",
       "      <td>12</td>\n",
       "      <td>3.417154</td>\n",
       "    </tr>\n",
       "    <tr>\n",
       "      <th>1455</th>\n",
       "      <td>124315</td>\n",
       "      <td>tt8043306</td>\n",
       "      <td>Teefa in Trouble</td>\n",
       "      <td>Teefa in Trouble</td>\n",
       "      <td>2018</td>\n",
       "      <td>155</td>\n",
       "      <td>Action,Comedy,Crime</td>\n",
       "      <td>7.4</td>\n",
       "      <td>2724</td>\n",
       "      <td>8.0</td>\n",
       "      <td>2018-07-20</td>\n",
       "      <td>1500000</td>\n",
       "      <td>0</td>\n",
       "      <td>98806</td>\n",
       "      <td>7</td>\n",
       "      <td>0.065871</td>\n",
       "    </tr>\n",
       "    <tr>\n",
       "      <th>1456</th>\n",
       "      <td>129399</td>\n",
       "      <td>tt8632862</td>\n",
       "      <td>Fahrenheit 11/9</td>\n",
       "      <td>Fahrenheit 11/9</td>\n",
       "      <td>2018</td>\n",
       "      <td>128</td>\n",
       "      <td>Documentary</td>\n",
       "      <td>6.7</td>\n",
       "      <td>11628</td>\n",
       "      <td>29.0</td>\n",
       "      <td>2018-09-21</td>\n",
       "      <td>5000000</td>\n",
       "      <td>6352306</td>\n",
       "      <td>6653715</td>\n",
       "      <td>9</td>\n",
       "      <td>1.330743</td>\n",
       "    </tr>\n",
       "  </tbody>\n",
       "</table>\n",
       "<p>1457 rows × 16 columns</p>\n",
       "</div>"
      ],
      "text/plain": [
       "       index   movie_id                    primary_title  \\\n",
       "0         19  tt0249516                       Foodfight!   \n",
       "1         50  tt0359950  The Secret Life of Walter Mitty   \n",
       "2         54  tt0365907      A Walk Among the Tombstones   \n",
       "3         56  tt0369610                   Jurassic World   \n",
       "4         58  tt0376136                    The Rum Diary   \n",
       "...      ...        ...                              ...   \n",
       "1452  121683  tt7784604                       Hereditary   \n",
       "1453  121697  tt7785302                        Spotlight   \n",
       "1454  123478  tt7959026                         The Mule   \n",
       "1455  124315  tt8043306                 Teefa in Trouble   \n",
       "1456  129399  tt8632862                  Fahrenheit 11/9   \n",
       "\n",
       "                       original_title  start_year  runtime_minutes  \\\n",
       "0                          Foodfight!        2012               91   \n",
       "1     The Secret Life of Walter Mitty        2013              114   \n",
       "2         A Walk Among the Tombstones        2014              114   \n",
       "3                      Jurassic World        2015              124   \n",
       "4                       The Rum Diary        2011              119   \n",
       "...                               ...         ...              ...   \n",
       "1452                       Hereditary        2018              127   \n",
       "1453                        Spotlight        2015               99   \n",
       "1454                         The Mule        2018              116   \n",
       "1455                 Teefa in Trouble        2018              155   \n",
       "1456                  Fahrenheit 11/9        2018              128   \n",
       "\n",
       "                       genres  averagerating  numvotes     id release_date  \\\n",
       "0     Action,Animation,Comedy            1.9      8248   26.0   2012-12-31   \n",
       "1      Adventure,Comedy,Drama            7.3    275300   37.0   2013-12-25   \n",
       "2          Action,Crime,Drama            6.5    105116   67.0   2014-09-19   \n",
       "3     Action,Adventure,Sci-Fi            7.0    539338   34.0   2015-06-12   \n",
       "4                Comedy,Drama            6.2     94787   16.0   2011-10-28   \n",
       "...                       ...            ...       ...    ...          ...   \n",
       "1452     Drama,Horror,Mystery            7.3    151571   56.0   2018-06-08   \n",
       "1453                    Drama            8.0        12   34.0   2015-11-06   \n",
       "1454     Crime,Drama,Thriller            7.1     58955  100.0   2018-12-14   \n",
       "1455      Action,Comedy,Crime            7.4      2724    8.0   2018-07-20   \n",
       "1456              Documentary            6.7     11628   29.0   2018-09-21   \n",
       "\n",
       "      production_budget  domestic_gross  worldwide_gross  release_month  \\\n",
       "0              45000000               0            73706             12   \n",
       "1              91000000        58236838        187861183             12   \n",
       "2              28000000        26017685         62108587              9   \n",
       "3             215000000       652270625       1648854864              6   \n",
       "4              45000000        13109815         21544732             10   \n",
       "...                 ...             ...              ...            ...   \n",
       "1452           10000000        44069456         70133905              6   \n",
       "1453           20000000        45055776         92088460             11   \n",
       "1454           50000000       103804407        170857676             12   \n",
       "1455            1500000               0            98806              7   \n",
       "1456            5000000         6352306          6653715              9   \n",
       "\n",
       "      profitability_index  \n",
       "0                0.001638  \n",
       "1                2.064409  \n",
       "2                2.218164  \n",
       "3                7.669092  \n",
       "4                0.478772  \n",
       "...                   ...  \n",
       "1452             7.013390  \n",
       "1453             4.604423  \n",
       "1454             3.417154  \n",
       "1455             0.065871  \n",
       "1456             1.330743  \n",
       "\n",
       "[1457 rows x 16 columns]"
      ]
     },
     "execution_count": 109,
     "metadata": {},
     "output_type": "execute_result"
    }
   ],
   "source": [
    "merged_df.reset_index()"
   ]
  },
  {
   "cell_type": "code",
   "execution_count": 110,
   "metadata": {},
   "outputs": [],
   "source": [
    "#split genre column out into 3 columns\n",
    "merged_df[['genre1', 'genre2', 'genre3']] = merged_df['genres'].str.split(',', expand=True)"
   ]
  },
  {
   "cell_type": "code",
   "execution_count": 111,
   "metadata": {},
   "outputs": [
    {
     "data": {
      "text/plain": [
       "count    1.457000e+03\n",
       "mean     1.419639e+08\n",
       "std      2.352410e+08\n",
       "min      0.000000e+00\n",
       "25%      8.217571e+06\n",
       "50%      5.246054e+07\n",
       "75%      1.599465e+08\n",
       "max      2.048134e+09\n",
       "Name: worldwide_gross, dtype: float64"
      ]
     },
     "execution_count": 111,
     "metadata": {},
     "output_type": "execute_result"
    }
   ],
   "source": [
    " #160,000,000 is the top quartile in earned\n",
    "merged_df.worldwide_gross.describe()"
   ]
  },
  {
   "cell_type": "code",
   "execution_count": 112,
   "metadata": {},
   "outputs": [
    {
     "data": {
      "text/plain": [
       "count    1457.000000\n",
       "mean        3.691895\n",
       "std        12.182487\n",
       "min         0.000000\n",
       "25%         0.744915\n",
       "50%         2.135069\n",
       "75%         4.004564\n",
       "max       416.564740\n",
       "Name: profitability_index, dtype: float64"
      ]
     },
     "execution_count": 112,
     "metadata": {},
     "output_type": "execute_result"
    }
   ],
   "source": [
    "# 4 is the top quartile in profability index\n",
    "merged_df.profitability_index.describe()  "
   ]
  },
  {
   "cell_type": "code",
   "execution_count": 113,
   "metadata": {},
   "outputs": [
    {
     "name": "stdout",
     "output_type": "stream",
     "text": [
      "<class 'pandas.core.frame.DataFrame'>\n",
      "Int64Index: 179 entries, 56 to 112595\n",
      "Data columns (total 18 columns):\n",
      " #   Column               Non-Null Count  Dtype         \n",
      "---  ------               --------------  -----         \n",
      " 0   movie_id             179 non-null    object        \n",
      " 1   primary_title        179 non-null    object        \n",
      " 2   original_title       179 non-null    object        \n",
      " 3   start_year           179 non-null    int64         \n",
      " 4   runtime_minutes      179 non-null    int64         \n",
      " 5   genres               179 non-null    object        \n",
      " 6   averagerating        179 non-null    float64       \n",
      " 7   numvotes             179 non-null    int64         \n",
      " 8   id                   179 non-null    float64       \n",
      " 9   release_date         179 non-null    datetime64[ns]\n",
      " 10  production_budget    179 non-null    int64         \n",
      " 11  domestic_gross       179 non-null    int64         \n",
      " 12  worldwide_gross      179 non-null    int64         \n",
      " 13  release_month        179 non-null    int64         \n",
      " 14  profitability_index  179 non-null    float64       \n",
      " 15  genre1               179 non-null    object        \n",
      " 16  genre2               173 non-null    object        \n",
      " 17  genre3               140 non-null    object        \n",
      "dtypes: datetime64[ns](1), float64(3), int64(7), object(7)\n",
      "memory usage: 26.6+ KB\n"
     ]
    }
   ],
   "source": [
    "#create new dataframe that only has top quartile in both profitability index and earned worldwide revenue\n",
    "over_100_gross = merged_df.loc[(merged_df['worldwide_gross'] > 160000000) & (merged_df['profitability_index'] > 4)]"
   ]
  },
  {
   "cell_type": "code",
   "execution_count": 114,
   "metadata": {},
   "outputs": [
    {
     "data": {
      "text/plain": [
       "count    1.457000e+03\n",
       "mean     4.439851e+07\n",
       "std      5.569060e+07\n",
       "min      1.500000e+04\n",
       "25%      8.000000e+06\n",
       "50%      2.300000e+07\n",
       "75%      5.500000e+07\n",
       "max      4.106000e+08\n",
       "Name: production_budget, dtype: float64"
      ]
     },
     "execution_count": 114,
     "metadata": {},
     "output_type": "execute_result"
    }
   ],
   "source": [
    "# budgets of 5.500000e+07 are top quartile and can be considered high budget\n",
    "merged_df['production_budget'].describe()"
   ]
  },
  {
   "cell_type": "code",
   "execution_count": 115,
   "metadata": {},
   "outputs": [],
   "source": [
    "high_budget_df = merged_df.loc[(merged_df['production_budget'] > 5.500000e+07)]"
   ]
  },
  {
   "cell_type": "code",
   "execution_count": 116,
   "metadata": {},
   "outputs": [],
   "source": [
    "# melt the dataframe to convert the genre columns to rows\n",
    "genres_pi = merged_df.melt(id_vars=['profitability_index'], value_vars=['genre1', 'genre2', 'genre3'])\n",
    "genres__pi_top_100 = over_100_gross.melt(id_vars=['profitability_index'], value_vars=['genre1', 'genre2', 'genre3'])\n",
    "genres_pi_high_budget = high_budget_df.melt(id_vars=['profitability_index'], value_vars=['genre1', 'genre2', 'genre3'])\n",
    "\n",
    "# group the dataframe by the 'value' column, which is the new column created by the melt function\n",
    "genres_pi = genres_pi.groupby('value').agg({'profitability_index': ['mean']}).reset_index()\n",
    "genres__pi_top_100 = genres__pi_top_100.groupby('value').agg({'profitability_index': ['mean']}).reset_index()\n",
    "genres_pi_high_budget = genres_pi_high_budget.groupby('value').agg({'profitability_index': ['mean']}).reset_index()\n",
    "\n",
    "# rename the columns of the dataframe\n",
    "genres_pi.columns = ['genre', 'average_profitability_index']\n",
    "genres__pi_top_100.columns = ['genre', 'average_profitability_index']\n",
    "genres_pi_high_budget.columns = ['genre', 'average_profitability_index']\n",
    "\n",
    "#do the same for worldwide_gross\n",
    "genres_gross = merged_df.melt(id_vars=['worldwide_gross'], value_vars=['genre1', 'genre2', 'genre3'])\n",
    "genres_gross_top_100 = over_100_gross.melt(id_vars=['worldwide_gross'], value_vars=['genre1', 'genre2', 'genre3'])\n",
    "genres_gross_high_budget = high_budget_df.melt(id_vars=['worldwide_gross'], value_vars=['genre1', 'genre2', 'genre3'])\n",
    "\n",
    "# group the dataframe by the 'value' column, which is the new column created by the melt function\n",
    "genres_gross = genres_gross.groupby('value').agg({'worldwide_gross': ['mean']}).reset_index()\n",
    "genres_gross_top_100 = genres_gross_top_100.groupby('value').agg({'worldwide_gross': ['mean']}).reset_index()\n",
    "genres_gross_high_budget = genres_gross_high_budget.groupby('value').agg({'worldwide_gross': ['mean']}).reset_index()\n",
    "\n",
    "# rename the columns of the dataframe\n",
    "genres_gross.columns = ['genre', 'average_gross']\n",
    "genres_gross_top_100.columns = ['genre', 'average_gross']\n",
    "genres_gross_high_budget.columns = ['genre', 'average_gross']\n"
   ]
  },
  {
   "cell_type": "code",
   "execution_count": 117,
   "metadata": {},
   "outputs": [
    {
     "data": {
      "text/plain": [
       "Text(0.5, 1.0, 'Production Budget vs. Revenue for All Films')"
      ]
     },
     "execution_count": 117,
     "metadata": {},
     "output_type": "execute_result"
    },
    {
     "data": {
      "image/png": "[encoded data removed]",
      "text/plain": [
       "<Figure size 432x288 with 1 Axes>"
      ]
     },
     "metadata": {
      "needs_background": "light"
     },
     "output_type": "display_data"
    }
   ],
   "source": [
    "merged_df['production_budget'] = merged_df['production_budget']/1000000\n",
    "merged_df['worldwide_gross'] = merged_df['worldwide_gross']/1000000\n",
    "sns.scatterplot(x='production_budget', y='worldwide_gross', data=merged_df)\n",
    "plt.xlabel('Production Budget (in millions USD)')\n",
    "plt.ylabel('Worldwide Gross Revenue (in millions USD)')\n",
    "plt.title('Production Budget vs. Revenue for All Films')\n"
   ]
  },
  {
   "cell_type": "code",
   "execution_count": 118,
   "metadata": {},
   "outputs": [
    {
     "name": "stderr",
     "output_type": "stream",
     "text": [
      "<ipython-input-118-a89e50e921f7>:1: SettingWithCopyWarning: \n",
      "A value is trying to be set on a copy of a slice from a DataFrame.\n",
      "Try using .loc[row_indexer,col_indexer] = value instead\n",
      "\n",
      "See the caveats in the documentation: https://pandas.pydata.org/pandas-docs/stable/user_guide/indexing.html#returning-a-view-versus-a-copy\n",
      "  over_100_gross['production_budget'] = over_100_gross['production_budget']/1000000\n",
      "<ipython-input-118-a89e50e921f7>:2: SettingWithCopyWarning: \n",
      "A value is trying to be set on a copy of a slice from a DataFrame.\n",
      "Try using .loc[row_indexer,col_indexer] = value instead\n",
      "\n",
      "See the caveats in the documentation: https://pandas.pydata.org/pandas-docs/stable/user_guide/indexing.html#returning-a-view-versus-a-copy\n",
      "  over_100_gross['worldwide_gross'] = over_100_gross['worldwide_gross']/1000000\n"
     ]
    },
    {
     "data": {
      "text/plain": [
       "Text(0.5, 1.0, 'Production Budget vs. Revenue for High Earning Films')"
      ]
     },
     "execution_count": 118,
     "metadata": {},
     "output_type": "execute_result"
    },
    {
     "data": {
      "image/png": "[encoded data removed]",
      "text/plain": [
       "<Figure size 432x288 with 1 Axes>"
      ]
     },
     "metadata": {
      "needs_background": "light"
     },
     "output_type": "display_data"
    }
   ],
   "source": [
    "over_100_gross['production_budget'] = over_100_gross['production_budget']/1000000\n",
    "over_100_gross['worldwide_gross'] = over_100_gross['worldwide_gross']/1000000\n",
    "sns.scatterplot(x='production_budget', y='worldwide_gross', data=over_100_gross)\n",
    "plt.xlabel('Production Budget (in millions USD)')\n",
    "plt.ylabel('Worldwide Gross Revenue (in millions USD)')\n",
    "plt.title('Production Budget vs. Revenue for High Earning Films')"
   ]
  },
  {
   "cell_type": "code",
   "execution_count": 119,
   "metadata": {},
   "outputs": [
    {
     "data": {
      "text/plain": [
       "Text(0, 0.5, 'Profitability Index')"
      ]
     },
     "execution_count": 119,
     "metadata": {},
     "output_type": "execute_result"
    },
    {
     "data": {
      "image/png": "[encoded data removed]",
      "text/plain": [
       "<Figure size 432x288 with 1 Axes>"
      ]
     },
     "metadata": {
      "needs_background": "light"
     },
     "output_type": "display_data"
    }
   ],
   "source": [
    "sns.scatterplot(x='production_budget', y='profitability_index', data=merged_df, zorder=1)\n",
    "plt.ylim(0, 75)\n",
    "sns.regplot(x='production_budget', y='profitability_index', data=merged_df, color='red', scatter=False)\n",
    "plt.title('Production Budget vs. Profitability Index for All Films')\n",
    "plt.xlabel('Production Budget (in millions USD)')\n",
    "plt.ylabel('Profitability Index')"
   ]
  },
  {
   "cell_type": "code",
   "execution_count": 120,
   "metadata": {},
   "outputs": [
    {
     "data": {
      "text/plain": [
       "Text(0, 0.5, 'Profitability Index')"
      ]
     },
     "execution_count": 120,
     "metadata": {},
     "output_type": "execute_result"
    },
    {
     "data": {
      "image/png": "[encoded data removed]",
      "text/plain": [
       "<Figure size 432x288 with 1 Axes>"
      ]
     },
     "metadata": {
      "needs_background": "light"
     },
     "output_type": "display_data"
    }
   ],
   "source": [
    "sns.scatterplot(x='production_budget', y='profitability_index', data=over_100_gross, zorder=1)\n",
    "plt.ylim(0, 75)\n",
    "sns.regplot(x='production_budget', y='profitability_index', data=over_100_gross , color='red', scatter=False)\n",
    "plt.title('Production Budget vs. Profitability Index for High Earning Films')\n",
    "plt.xlabel('Production Budget (in millions USD)')\n",
    "plt.ylabel('Profitability Index')"
   ]
  },
  {
   "cell_type": "code",
   "execution_count": 121,
   "metadata": {},
   "outputs": [
    {
     "data": {
      "text/plain": [
       "(0.0, 30.0)"
      ]
     },
     "execution_count": 121,
     "metadata": {},
     "output_type": "execute_result"
    },
    {
     "data": {
      "image/png": "[encoded data removed]",
      "text/plain": [
       "<Figure size 432x288 with 1 Axes>"
      ]
     },
     "metadata": {
      "needs_background": "light"
     },
     "output_type": "display_data"
    }
   ],
   "source": [
    "plt.hist(merged_df['profitability_index'],bins=200)\n",
    "plt.xlabel('Profitability Index')\n",
    "plt.ylabel('Frequency')\n",
    "plt.title('Profitability Index Frequency for All Films')\n",
    "plt.xlim(0,30)\n",
    "\n",
    "#need to compare this to profitability ratio of only 160 million and up budgets to show they are pretty much the same"
   ]
  },
  {
   "cell_type": "code",
   "execution_count": 122,
   "metadata": {},
   "outputs": [
    {
     "data": {
      "text/plain": [
       "(0.0, 30.0)"
      ]
     },
     "execution_count": 122,
     "metadata": {},
     "output_type": "execute_result"
    },
    {
     "data": {
      "image/png": "[encoded data removed]",
      "text/plain": [
       "<Figure size 432x288 with 1 Axes>"
      ]
     },
     "metadata": {
      "needs_background": "light"
     },
     "output_type": "display_data"
    }
   ],
   "source": [
    "plt.hist(high_budget_df['profitability_index'],bins=10)\n",
    "plt.xlabel('Profitability Index')\n",
    "plt.ylabel('Frequency')\n",
    "plt.title('Profitability Index Frequency for High Budget Films')\n",
    "plt.xlim(0,30)"
   ]
  },
  {
   "cell_type": "code",
   "execution_count": 123,
   "metadata": {},
   "outputs": [
    {
     "data": {
      "image/png": "[encoded data removed]",
      "text/plain": [
       "<Figure size 432x288 with 1 Axes>"
      ]
     },
     "metadata": {
      "needs_background": "light"
     },
     "output_type": "display_data"
    }
   ],
   "source": [
    "sns.boxplot(x=merged_df['profitability_index'])\n",
    "plt.xlim(0, 25)\n",
    "plt.xlabel('Profitability Index')\n",
    "plt.title('Profitability Index for All Films')\n",
    "plt.show()\n",
    "\n",
    "#need to compare this to profitability ratio of only 160 million and up budgets to show they are pretty much the same"
   ]
  },
  {
   "cell_type": "code",
   "execution_count": 124,
   "metadata": {},
   "outputs": [
    {
     "data": {
      "image/png": "[encoded data removed]",
      "text/plain": [
       "<Figure size 432x288 with 1 Axes>"
      ]
     },
     "metadata": {
      "needs_background": "light"
     },
     "output_type": "display_data"
    }
   ],
   "source": [
    "sns.boxplot(x=high_budget_df['profitability_index'])\n",
    "plt.xlabel('Profitability Index')\n",
    "plt.title('Profitability Index for High Budget Films')\n",
    "plt.show()"
   ]
  },
  {
   "cell_type": "code",
   "execution_count": 125,
   "metadata": {},
   "outputs": [
    {
     "data": {
      "image/png": "[encoded data removed]",
      "text/plain": [
       "<Figure size 432x288 with 1 Axes>"
      ]
     },
     "metadata": {
      "needs_background": "light"
     },
     "output_type": "display_data"
    }
   ],
   "source": [
    "# We have proven that profitability is generally the same for all films vs. high budget\n",
    "# and bigger bets will make us more money, especially for a company like Microsoft. \n",
    "# So if we go high budget, what kind of films to make?\n",
    "\n",
    "sns.barplot(x='genre', y='average_profitability_index', data=genres_pi)\n",
    "plt.xlabel('Genres')\n",
    "plt.ylabel('Average Profitability Index')\n",
    "plt.title('Average Profitability Index by Genre for All Films')\n",
    "plt.xticks(rotation=90)\n",
    "plt.show()"
   ]
  },
  {
   "cell_type": "code",
   "execution_count": 126,
   "metadata": {},
   "outputs": [
    {
     "data": {
      "image/png": "[encoded data removed]",
      "text/plain": [
       "<Figure size 432x288 with 1 Axes>"
      ]
     },
     "metadata": {
      "needs_background": "light"
     },
     "output_type": "display_data"
    }
   ],
   "source": [
    "genres_gross['average_gross'] = genres_gross['average_gross']/1000000\n",
    "sns.barplot(x='genre', y='average_gross', data=genres_gross)\n",
    "plt.xlabel('Genres')\n",
    "plt.ylabel('Average Worldwide Gross Revenue (in millions USD)')\n",
    "plt.title('Average Revenue by Genre for All Films')\n",
    "plt.xticks(rotation=90)\n",
    "plt.show()"
   ]
  },
  {
   "cell_type": "code",
   "execution_count": 127,
   "metadata": {},
   "outputs": [
    {
     "data": {
      "image/png": "[encoded data removed]",
      "text/plain": [
       "<Figure size 432x288 with 1 Axes>"
      ]
     },
     "metadata": {
      "needs_background": "light"
     },
     "output_type": "display_data"
    }
   ],
   "source": [
    "sns.barplot(x='genre', y='average_profitability_index', data=genres__pi_top_100)\n",
    "plt.xlabel('Genres')\n",
    "plt.ylabel('Average Profitability Index')\n",
    "plt.title('Average Profitability Index by Genre for High Grossing Films')\n",
    "plt.xticks(rotation=90)\n",
    "plt.show()"
   ]
  },
  {
   "cell_type": "code",
   "execution_count": 128,
   "metadata": {},
   "outputs": [
    {
     "data": {
      "image/png": "[encoded data removed]",
      "text/plain": [
       "<Figure size 432x288 with 1 Axes>"
      ]
     },
     "metadata": {
      "needs_background": "light"
     },
     "output_type": "display_data"
    }
   ],
   "source": [
    "genres_gross_top_100['average_gross'] = genres_gross_top_100['average_gross']/1000000\n",
    "sns.barplot(x='genre', y='average_gross', data=genres_gross_top_100)\n",
    "plt.xlabel('Genres')\n",
    "plt.ylabel('Average Worldwide Gross Revenue (in millions USD)')\n",
    "plt.title('Average Revenue by Genre for High Gross Films')\n",
    "plt.xticks(rotation=90)\n",
    "plt.show()"
   ]
  },
  {
   "cell_type": "code",
   "execution_count": 129,
   "metadata": {},
   "outputs": [
    {
     "data": {
      "image/png": "[encoded data removed]",
      "text/plain": [
       "<Figure size 432x288 with 1 Axes>"
      ]
     },
     "metadata": {
      "needs_background": "light"
     },
     "output_type": "display_data"
    }
   ],
   "source": [
    "#need to sort from high bars to low bars\n",
    "sns.barplot(x='genre', y='average_profitability_index', data=genres_pi_high_budget)\n",
    "plt.xlabel('Genres')\n",
    "plt.ylabel('Average Profitability Index')\n",
    "plt.title('Average Profitability Index by Genre for High Budget Films')\n",
    "plt.xticks(rotation=90)\n",
    "plt.show()"
   ]
  },
  {
   "cell_type": "code",
   "execution_count": 130,
   "metadata": {},
   "outputs": [
    {
     "data": {
      "image/png": "[encoded data removed]",
      "text/plain": [
       "<Figure size 432x288 with 1 Axes>"
      ]
     },
     "metadata": {
      "needs_background": "light"
     },
     "output_type": "display_data"
    }
   ],
   "source": [
    "# add counts for each one as an overlay\n",
    "# Musical will be cut off because it only has 4 movies, potentially others too\n",
    "genres_gross_high_budget['average_gross'] = genres_gross_high_budget['average_gross']/1000000\n",
    "sns.barplot(x='genre', y='average_gross', data=genres_gross_high_budget)\n",
    "plt.xlabel('Genres')\n",
    "plt.ylabel('Average Worldwide Gross Revenue (in millions USD)')\n",
    "plt.title('Average Revenue by Genre for High Budget Films')\n",
    "plt.xticks(rotation=90)\n",
    "plt.show()"
   ]
  },
  {
   "cell_type": "code",
   "execution_count": 131,
   "metadata": {},
   "outputs": [],
   "source": [
    "merged_principals_df =pd.read_csv('zippedData/merged_principals.csv') "
   ]
  },
  {
   "cell_type": "code",
   "execution_count": 132,
   "metadata": {},
   "outputs": [],
   "source": [
    "directors_df = merged_principals_df.loc[merged_principals_df['category'] == 'director']"
   ]
  },
  {
   "cell_type": "code",
   "execution_count": 133,
   "metadata": {},
   "outputs": [],
   "source": [
    "scifi_high_budget_df = high_budget_df[high_budget_df['genre1'].isin(['Sci-Fi']) | high_budget_df['genre2'].isin(['Sci-Fi']) | high_budget_df['genre3'].isin(['Sci-Fi'])]"
   ]
  },
  {
   "cell_type": "code",
   "execution_count": 134,
   "metadata": {},
   "outputs": [
    {
     "data": {
      "text/plain": [
       "primary_name\n",
       "Gary Ross             8.474042\n",
       "J.A. Bayona           7.681016\n",
       "Colin Trevorrow       7.669092\n",
       "Ruben Fleischer       7.358867\n",
       "Ryan Coogler          6.741291\n",
       "Alfonso Cuarón        6.306352\n",
       "Francis Lawrence      5.613867\n",
       "Joss Whedon           5.495112\n",
       "Joe Russo             5.196585\n",
       "Anthony Russo         5.196585\n",
       "Wes Ball              5.091249\n",
       "Rupert Wyatt          5.064368\n",
       "Jon Watts             5.029522\n",
       "Christopher Nolan     4.630346\n",
       "Michael Bay           4.599556\n",
       "Travis Knight         4.560741\n",
       "Gareth Edwards        4.276120\n",
       "James Mangold         4.233758\n",
       "Shane Black           3.944660\n",
       "Ridley Scott          3.915299\n",
       "Steven Spielberg      3.861934\n",
       "Paul W.S. Anderson    3.702271\n",
       "Jon Favreau           3.653861\n",
       "Brad Peyton           3.567136\n",
       "Marc Webb             3.494969\n",
       "Bryan Singer          3.393639\n",
       "Jon Turteltaub        2.974892\n",
       "Zack Snyder           2.968887\n",
       "Morten Tyldum         2.747633\n",
       "Chris Columbus        2.711576\n",
       "Jon M. Chu            2.683862\n",
       "Joe Johnston          2.646927\n",
       "George Miller         2.467320\n",
       "J.J. Abrams           2.459903\n",
       "Joseph Kosinski       2.399305\n",
       "Neill Blomkamp        2.384934\n",
       "Roland Emmerich       2.328300\n",
       "Matthew Vaughn        2.221302\n",
       "Dean Devlin           2.207960\n",
       "Guillermo del Toro    2.163173\n",
       "Doug Liman            2.081692\n",
       "José Padilha          2.024848\n",
       "Steven S. DeKnight    1.876969\n",
       "Justin Lin            1.815147\n",
       "Daniel Espinosa       1.740167\n",
       "Rupert Sanders        1.526461\n",
       "Peter Berg            1.424899\n",
       "Denis Villeneuve      1.401932\n",
       "Dean Israelite        1.187763\n",
       "Martin Campbell       1.097677\n",
       "Wally Pfister         1.030393\n",
       "Andrew Stanton        1.028284\n",
       "Lilly Wachowski       1.016662\n",
       "Lana Wachowski        1.016662\n",
       "Alexander Payne       0.800926\n",
       "Dan Bradley           0.740987\n",
       "Name: profitability_index, dtype: float64"
      ]
     },
     "execution_count": 134,
     "metadata": {},
     "output_type": "execute_result"
    }
   ],
   "source": [
    "scifi_dir_merge = pd.merge(directors_df, scifi_high_budget_df, on='movie_id')\n",
    "scifi_dir_average_profitability = scifi_dir_merge.groupby('primary_name').mean()['profitability_index'].sort_values(ascending=False)\n",
    "scifi_dir_average_profitability"
   ]
  },
  {
   "cell_type": "code",
   "execution_count": 135,
   "metadata": {},
   "outputs": [
    {
     "data": {
      "image/png": "[encoded data removed]",
      "text/plain": [
       "<Figure size 432x288 with 1 Axes>"
      ]
     },
     "metadata": {
      "needs_background": "light"
     },
     "output_type": "display_data"
    }
   ],
   "source": [
    "top_5_dir_scifi = scifi_dir_average_profitability.head(5)\n",
    "top_5_dir_scifi.plot.bar()\n",
    "plt.xlabel('Primary Name')\n",
    "plt.ylabel('Average Profitability Index')\n",
    "plt.title('Average Profitability Index for Top 5 Sci-Fi Directors')\n",
    "plt.show()"
   ]
  },
  {
   "cell_type": "code",
   "execution_count": 136,
   "metadata": {},
   "outputs": [],
   "source": [
    "adventure_high_budget_df = high_budget_df[high_budget_df['genre1'].isin(['Adventure']) | high_budget_df['genre2'].isin(['Adventure']) | high_budget_df['genre3'].isin(['Adventure'])]"
   ]
  },
  {
   "cell_type": "code",
   "execution_count": 137,
   "metadata": {},
   "outputs": [
    {
     "data": {
      "text/plain": [
       "primary_name\n",
       "Kyle Balda          14.738294\n",
       "Tim Miller          13.810786\n",
       "Eric Guillon        13.796370\n",
       "Pierre Coffin       13.314085\n",
       "Chris Renaud        12.327570\n",
       "                      ...    \n",
       "Renny Harlin         0.842190\n",
       "Marcus Nispel        0.703957\n",
       "Robert Schwentke     0.608282\n",
       "Simon Wells          0.263665\n",
       "Xiao Feng            0.007943\n",
       "Name: profitability_index, Length: 201, dtype: float64"
      ]
     },
     "execution_count": 137,
     "metadata": {},
     "output_type": "execute_result"
    }
   ],
   "source": [
    "adventure_dir_merge = pd.merge(directors_df, adventure_high_budget_df, on='movie_id')\n",
    "adventure_dir_average_profitability = adventure_dir_merge.groupby('primary_name').mean()['profitability_index'].sort_values(ascending=False)\n",
    "adventure_dir_average_profitability"
   ]
  },
  {
   "cell_type": "code",
   "execution_count": 138,
   "metadata": {},
   "outputs": [
    {
     "data": {
      "image/png": "[encoded data removed]",
      "text/plain": [
       "<Figure size 432x288 with 1 Axes>"
      ]
     },
     "metadata": {
      "needs_background": "light"
     },
     "output_type": "display_data"
    }
   ],
   "source": [
    "top_5_dir_adventure = adventure_dir_average_profitability.head(5)\n",
    "top_5_dir_adventure.plot.bar()\n",
    "plt.xlabel('Primary Name')\n",
    "plt.ylabel('Average Profitability Index')\n",
    "plt.title('Average Profitability Index for Top 5 Adventure Directors')\n",
    "plt.show()"
   ]
  },
  {
   "cell_type": "code",
   "execution_count": 139,
   "metadata": {},
   "outputs": [],
   "source": [
    "animation_high_budget_df = high_budget_df[high_budget_df['genre1'].isin(['Animation']) | high_budget_df['genre2'].isin(['Animation']) | high_budget_df['genre3'].isin(['Animation'])]"
   ]
  },
  {
   "cell_type": "code",
   "execution_count": 140,
   "metadata": {},
   "outputs": [
    {
     "data": {
      "text/plain": [
       "primary_name\n",
       "Kyle Balda       14.738294\n",
       "Eric Guillon     13.796370\n",
       "Yarrow Cheney    11.823340\n",
       "Pierre Coffin    11.501490\n",
       "Chris Renaud     10.843813\n",
       "                   ...    \n",
       "Zack Snyder       1.397167\n",
       "George Miller     1.170048\n",
       "David Peers       1.170048\n",
       "Gary Eck          1.170048\n",
       "Simon Wells       0.263665\n",
       "Name: profitability_index, Length: 89, dtype: float64"
      ]
     },
     "execution_count": 140,
     "metadata": {},
     "output_type": "execute_result"
    }
   ],
   "source": [
    "animation_dir_merge = pd.merge(directors_df, animation_high_budget_df, on='movie_id')\n",
    "animation_dir_average_profitability = animation_dir_merge.groupby('primary_name').mean()['profitability_index'].sort_values(ascending=False)"
   ]
  },
  {
   "cell_type": "code",
   "execution_count": 141,
   "metadata": {},
   "outputs": [
    {
     "data": {
      "image/png": "[encoded data removed]",
      "text/plain": [
       "<Figure size 432x288 with 1 Axes>"
      ]
     },
     "metadata": {
      "needs_background": "light"
     },
     "output_type": "display_data"
    }
   ],
   "source": [
    "top_5_dir_animation = animation_dir_average_profitability.head(5)\n",
    "top_5_dir_animation.plot.bar()\n",
    "plt.xlabel('Primary Name')\n",
    "plt.ylabel('Average Profitability Index')\n",
    "plt.title('Average Profitability Index for Top 5 Animation Directors')\n",
    "plt.show()"
   ]
  },
  {
   "cell_type": "code",
   "execution_count": 142,
   "metadata": {},
   "outputs": [],
   "source": [
    "producers_df = merged_principals_df.loc[merged_principals_df['category'] == 'producer']"
   ]
  },
  {
   "cell_type": "code",
   "execution_count": 143,
   "metadata": {},
   "outputs": [
    {
     "data": {
      "text/plain": [
       "primary_name\n",
       "Belén Atienza      7.681016\n",
       "Patrick Crowley    7.675054\n",
       "Jon Kilik          6.328910\n",
       "Nina Jacobson      6.328910\n",
       "David Heyman       6.306352\n",
       "                     ...   \n",
       "Annie Marter       1.030393\n",
       "Jim Morris         1.028284\n",
       "Lindsey Collins    1.028284\n",
       "Grant Hill         1.016662\n",
       "Mark Johnson       0.800926\n",
       "Name: profitability_index, Length: 66, dtype: float64"
      ]
     },
     "execution_count": 143,
     "metadata": {},
     "output_type": "execute_result"
    }
   ],
   "source": [
    "scifi_prod_merge = pd.merge(producers_df, scifi_high_budget_df, on='movie_id')\n",
    "scifi_prod_average_profitability = scifi_prod_merge.groupby('primary_name').mean()['profitability_index'].sort_values(ascending=False)"
   ]
  },
  {
   "cell_type": "code",
   "execution_count": 144,
   "metadata": {},
   "outputs": [
    {
     "data": {
      "image/png": "[encoded data removed]",
      "text/plain": [
       "<Figure size 432x288 with 1 Axes>"
      ]
     },
     "metadata": {
      "needs_background": "light"
     },
     "output_type": "display_data"
    }
   ],
   "source": [
    "top_5_prod_scifi = scifi_prod_average_profitability.head(5)\n",
    "top_5_prod_scifi.plot.bar()\n",
    "plt.xlabel('Primary Name')\n",
    "plt.ylabel('Average Profitability Index')\n",
    "plt.title('Average Profitability Index for Top 5 Sci-Fi Producers')\n",
    "plt.show()"
   ]
  },
  {
   "cell_type": "code",
   "execution_count": 145,
   "metadata": {},
   "outputs": [
    {
     "data": {
      "text/plain": [
       "primary_name\n",
       "Janet Healy               13.532932\n",
       "Christopher Meledandri    10.502195\n",
       "Wyck Godfrey              10.383865\n",
       "John C. Donkin             9.260686\n",
       "Simon Kinberg              9.009919\n",
       "                            ...    \n",
       "Steven J. Boyd             0.263665\n",
       "Steve Starkey              0.263665\n",
       "Stephen J. Eads            0.007943\n",
       "Jian-Xiang Shi             0.007943\n",
       "Haiyang Jiang              0.007943\n",
       "Name: profitability_index, Length: 189, dtype: float64"
      ]
     },
     "execution_count": 145,
     "metadata": {},
     "output_type": "execute_result"
    }
   ],
   "source": [
    "adventure_prod_merge = pd.merge(producers_df, adventure_high_budget_df, on='movie_id')\n",
    "adventure_prod_average_profitability = adventure_prod_merge.groupby('primary_name').mean()['profitability_index'].sort_values(ascending=False)"
   ]
  },
  {
   "cell_type": "code",
   "execution_count": 146,
   "metadata": {},
   "outputs": [
    {
     "data": {
      "image/png": "[encoded data removed]",
      "text/plain": [
       "<Figure size 432x288 with 1 Axes>"
      ]
     },
     "metadata": {
      "needs_background": "light"
     },
     "output_type": "display_data"
    }
   ],
   "source": [
    "top_5_prod_adventure = adventure_prod_average_profitability.head(5)\n",
    "top_5_prod_adventure.plot.bar()\n",
    "plt.xlabel('Primary Name')\n",
    "plt.ylabel('Average Profitability Index')\n",
    "plt.title('Average Profitability Index for Top 5 Adventure Producers')\n",
    "plt.show()"
   ]
  },
  {
   "cell_type": "code",
   "execution_count": 147,
   "metadata": {},
   "outputs": [
    {
     "data": {
      "text/plain": [
       "primary_name\n",
       "Janet Healy               12.518225\n",
       "Christopher Meledandri     9.991495\n",
       "John C. Donkin             9.260686\n",
       "Peter Del Vecho            8.483133\n",
       "John Cohen                 7.876298\n",
       "Michelle Murdocca          6.988838\n",
       "John Walker                6.212604\n",
       "Nicole Paradis Grindle     6.212604\n",
       "Lindsey Collins            5.106076\n",
       "Darla K. Anderson          4.952222\n",
       "Melissa Cobb               4.432250\n",
       "Jane Hartwell              4.244951\n",
       "Kristine Belson            4.244951\n",
       "Bonnie Arnold              4.238526\n",
       "Ramsey Ann Naito           4.087030\n",
       "Kori Rae                   3.717942\n",
       "Ross Bagdasarian Jr.       3.568014\n",
       "Jordan Kerner              3.292976\n",
       "Mary Ellen Bauder          3.292976\n",
       "Katherine Sarafian         2.997873\n",
       "Michele Imperato           2.994565\n",
       "Christopher Jenkins        2.969215\n",
       "Suzanne Buirgy             2.969215\n",
       "Peter Jackson              2.876877\n",
       "Denise Ream                2.800777\n",
       "Bradford Lewis             2.619335\n",
       "Paul Feig                  2.526178\n",
       "Lara Breay                 2.476055\n",
       "Denise Nolan Cascino       2.476055\n",
       "Roy Conli                  2.255682\n",
       "Lisa Stewart               2.125160\n",
       "Christina Steinberg        2.116558\n",
       "John B. Carls              1.820182\n",
       "Graham King                1.820182\n",
       "Arianne Sutner             1.801994\n",
       "Travis Knight              1.801994\n",
       "Peter Lord                 1.761378\n",
       "Steve Pegram               1.761378\n",
       "Carla Shelley              1.761378\n",
       "Zareh Nalbandian           1.397167\n",
       "Jack Rapke                 0.263665\n",
       "Steve Starkey              0.263665\n",
       "Steven J. Boyd             0.263665\n",
       "Name: profitability_index, dtype: float64"
      ]
     },
     "execution_count": 147,
     "metadata": {},
     "output_type": "execute_result"
    }
   ],
   "source": [
    "animation_prod_merge = pd.merge(producers_df, animation_high_budget_df, on='movie_id')\n",
    "animation_prod_average_profitability = animation_prod_merge.groupby('primary_name').mean()['profitability_index'].sort_values(ascending=False)"
   ]
  },
  {
   "cell_type": "code",
   "execution_count": 148,
   "metadata": {},
   "outputs": [
    {
     "data": {
      "image/png": "[encoded data removed]",
      "text/plain": [
       "<Figure size 432x288 with 1 Axes>"
      ]
     },
     "metadata": {
      "needs_background": "light"
     },
     "output_type": "display_data"
    }
   ],
   "source": [
    "top_5_prod_animation = animation_prod_average_profitability.head(5)\n",
    "top_5_prod_animation.plot.bar()\n",
    "plt.xlabel('Primary Name')\n",
    "plt.ylabel('Average Profitability Index')\n",
    "plt.title('Average Profitability Index for Top 5 Animation Producers')\n",
    "plt.show()"
   ]
  },
  {
   "cell_type": "code",
   "execution_count": 150,
   "metadata": {},
   "outputs": [],
   "source": [
    "high_budget_sequels_df = high_budget_df[high_budget_df['primary_title'].str.contains(r'\\d$')]\n",
    "average_profitability_index_sequels = high_budget_sequels_df['profitability_index'].mean()\n",
    "average_profitability_index_all = high_budget_df['profitability_index'].mean()"
   ]
  },
  {
   "cell_type": "code",
   "execution_count": 153,
   "metadata": {},
   "outputs": [
    {
     "data": {
      "image/png": "[encoded data removed]",
      "text/plain": [
       "<Figure size 432x288 with 1 Axes>"
      ]
     },
     "metadata": {
      "needs_background": "light"
     },
     "output_type": "display_data"
    }
   ],
   "source": [
    "plt.bar(['Sequels', 'All Films'], [average_profitability_index_sequels, average_profitability_index_all])\n",
    "plt.xlabel('Film Type')\n",
    "plt.ylabel('Average Profitability Index')\n",
    "plt.title('Average Profitability Index for High Budget Sequels and All Films')\n",
    "plt.show()"
   ]
  },
  {
   "cell_type": "markdown",
   "metadata": {},
   "source": [
    "## Data Preparation\n",
    "\n",
    "Describe and justify the process for preparing the data for analysis.\n",
    "\n",
    "***\n",
    "Questions to consider:\n",
    "* Were there variables you dropped or created?\n",
    "* How did you address missing values or outliers?\n",
    "* Why are these choices appropriate given the data and the business problem?\n",
    "***"
   ]
  },
  {
   "cell_type": "markdown",
   "metadata": {},
   "source": [
    "## Data Modeling\n",
    "Describe and justify the process for analyzing or modeling the data.\n",
    "\n",
    "***\n",
    "Questions to consider:\n",
    "* How did you analyze or model the data?\n",
    "* How did you iterate on your initial approach to make it better?\n",
    "* Why are these choices appropriate given the data and the business problem?\n",
    "***"
   ]
  },
  {
   "cell_type": "code",
   "execution_count": 65,
   "metadata": {},
   "outputs": [],
   "source": [
    "# here you run your code to model the data\n"
   ]
  },
  {
   "cell_type": "markdown",
   "metadata": {},
   "source": [
    "## Evaluation\n",
    "Evaluate how well your work solves the stated business problem.\n",
    "\n",
    "***\n",
    "Questions to consider:\n",
    "* How do you interpret the results?\n",
    "* How well does your model fit your data? How much better is this than your baseline model?\n",
    "* How confident are you that your results would generalize beyond the data you have?\n",
    "* How confident are you that this model would benefit the business if put into use?\n",
    "***"
   ]
  },
  {
   "cell_type": "markdown",
   "metadata": {},
   "source": [
    "## Conclusions\n",
    "Provide your conclusions about the work you've done, including any limitations or next steps.\n",
    "\n",
    "***\n",
    "Questions to consider:\n",
    "* What would you recommend the business do as a result of this work?\n",
    "* What are some reasons why your analysis might not fully solve the business problem?\n",
    "* What else could you do in the future to improve this project?\n",
    "***"
   ]
  }
 ],
 "metadata": {
  "kernelspec": {
   "display_name": "Python 3",
   "language": "python",
   "name": "python3"
  },
  "language_info": {
   "codemirror_mode": {
    "name": "ipython",
    "version": 3
   },
   "file_extension": ".py",
   "mimetype": "text/x-python",
   "name": "python",
   "nbconvert_exporter": "python",
   "pygments_lexer": "ipython3",
   "version": "3.8.5"
  }
 },
 "nbformat": 4,
 "nbformat_minor": 4
}
